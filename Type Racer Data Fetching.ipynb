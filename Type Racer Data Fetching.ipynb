{
 "cells": [
  {
   "cell_type": "code",
   "execution_count": 5,
   "id": "f2f6d671",
   "metadata": {},
   "outputs": [],
   "source": [
    "import requests\n",
    "from urllib.request import urlopen"
   ]
  },
  {
   "cell_type": "code",
   "execution_count": 6,
   "id": "118f3b9b",
   "metadata": {},
   "outputs": [],
   "source": [
    "def getTypeRacer(username):\n",
    "    url = \"https://data.typeracer.com/users?id=tr:{}&universe=dictionary\"\n",
    "    user = username #'kanwaradnan'\n",
    "    api = url.format(user)\n",
    "    \n",
    "    data = requests.get(api)\n",
    "    if data.status_code == 200:\n",
    "        data = data.json()\n",
    "\n",
    "\n",
    "        tStats = data['tstats']\n",
    "\n",
    "        temp = {}\n",
    "        temp['id'] = data['id']\n",
    "        temp['name'] = data['name']\n",
    "        temp['lastName'] = data['lastName']\n",
    "        temp['country'] = data['country'].title()\n",
    "        temp['level'] = tStats['level']\n",
    "        temp['avgWpm'] = round(tStats['wpm'],2)\n",
    "        temp['points'] = int(tStats['points'])\n",
    "        temp['gamesPlayed'] = tStats['cg']\n",
    "        temp['gamesWon'] = tStats['gamesWon']\n",
    "        temp['gamesLost'] = temp['gamesPlayed'] - temp['gamesWon']\n",
    "        temp['highestWpm'] = round(tStats['bestGameWpm'],2)\n",
    "        temp['winRatio'] = str(round(temp['gamesWon']/temp['gamesPlayed']*100,2)) + '%'\n",
    "        return temp\n"
   ]
  },
  {
   "cell_type": "markdown",
   "id": "9df0d4ac",
   "metadata": {},
   "source": [
    "# Input User Name"
   ]
  },
  {
   "cell_type": "code",
   "execution_count": 7,
   "id": "16923771",
   "metadata": {},
   "outputs": [
    {
     "name": "stdout",
     "output_type": "stream",
     "text": [
      "Enter Username : kanwaradnan\n"
     ]
    },
    {
     "data": {
      "text/plain": [
       "{'id': 'tr:kanwaradnan',\n",
       " 'name': 'Kanwar',\n",
       " 'lastName': 'Adnan',\n",
       " 'country': 'Pk',\n",
       " 'level': 'L6',\n",
       " 'avgWpm': 90.65,\n",
       " 'points': 20571,\n",
       " 'gamesPlayed': 562,\n",
       " 'gamesWon': 310,\n",
       " 'gamesLost': 252,\n",
       " 'highestWpm': 126.33,\n",
       " 'winRatio': '55.16%'}"
      ]
     },
     "execution_count": 7,
     "metadata": {},
     "output_type": "execute_result"
    }
   ],
   "source": [
    "username = input(\"Enter Username : \")\n",
    "if username == '':\n",
    "    username = 'kanwaradnan'\n",
    "data = getTypeRacer(username)\n",
    "data"
   ]
  },
  {
   "cell_type": "code",
   "execution_count": null,
   "id": "69042602",
   "metadata": {},
   "outputs": [],
   "source": []
  }
 ],
 "metadata": {
  "kernelspec": {
   "display_name": "Python 3 (ipykernel)",
   "language": "python",
   "name": "python3"
  },
  "language_info": {
   "codemirror_mode": {
    "name": "ipython",
    "version": 3
   },
   "file_extension": ".py",
   "mimetype": "text/x-python",
   "name": "python",
   "nbconvert_exporter": "python",
   "pygments_lexer": "ipython3",
   "version": "3.10.4"
  }
 },
 "nbformat": 4,
 "nbformat_minor": 5
}
